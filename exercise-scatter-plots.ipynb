{
 "cells": [
  {
   "cell_type": "markdown",
   "id": "wired-diagram",
   "metadata": {
    "papermill": {
     "duration": 0.025777,
     "end_time": "2021-03-31T15:13:51.395552",
     "exception": false,
     "start_time": "2021-03-31T15:13:51.369775",
     "status": "completed"
    },
    "tags": []
   },
   "source": [
    "**This notebook is an exercise in the [Data Visualization](https://www.kaggle.com/learn/data-visualization) course.  You can reference the tutorial at [this link](https://www.kaggle.com/alexisbcook/scatter-plots).**\n",
    "\n",
    "---\n"
   ]
  },
  {
   "cell_type": "markdown",
   "id": "foster-appliance",
   "metadata": {
    "papermill": {
     "duration": 0.024206,
     "end_time": "2021-03-31T15:13:51.444586",
     "exception": false,
     "start_time": "2021-03-31T15:13:51.420380",
     "status": "completed"
    },
    "tags": []
   },
   "source": [
    "In this exercise, you will use your new knowledge to propose a solution to a real-world scenario.  To succeed, you will need to import data into Python, answer questions using the data, and generate **scatter plots** to understand patterns in the data.\n",
    "\n",
    "## Scenario\n",
    "\n",
    "You work for a major candy producer, and your goal is to write a report that your company can use to guide the design of its next product.  Soon after starting your research, you stumble across this [very interesting dataset](https://fivethirtyeight.com/features/the-ultimate-halloween-candy-power-ranking/) containing results from a fun survey to crowdsource favorite candies.\n",
    "\n",
    "## Setup\n",
    "\n",
    "Run the next cell to import and configure the Python libraries that you need to complete the exercise."
   ]
  },
  {
   "cell_type": "code",
   "execution_count": 1,
   "id": "amateur-transcription",
   "metadata": {
    "execution": {
     "iopub.execute_input": "2021-03-31T15:13:51.498164Z",
     "iopub.status.busy": "2021-03-31T15:13:51.496992Z",
     "iopub.status.idle": "2021-03-31T15:13:52.378671Z",
     "shell.execute_reply": "2021-03-31T15:13:52.377666Z"
    },
    "papermill": {
     "duration": 0.909635,
     "end_time": "2021-03-31T15:13:52.379079",
     "exception": false,
     "start_time": "2021-03-31T15:13:51.469444",
     "status": "completed"
    },
    "tags": []
   },
   "outputs": [
    {
     "name": "stdout",
     "output_type": "stream",
     "text": [
      "Setup Complete\n"
     ]
    }
   ],
   "source": [
    "import pandas as pd\n",
    "pd.plotting.register_matplotlib_converters()\n",
    "import matplotlib.pyplot as plt\n",
    "%matplotlib inline\n",
    "import seaborn as sns\n",
    "print(\"Setup Complete\")"
   ]
  },
  {
   "cell_type": "markdown",
   "id": "rough-shirt",
   "metadata": {
    "papermill": {
     "duration": 0.024779,
     "end_time": "2021-03-31T15:13:52.432070",
     "exception": false,
     "start_time": "2021-03-31T15:13:52.407291",
     "status": "completed"
    },
    "tags": []
   },
   "source": [
    "The questions below will give you feedback on your work. Run the following cell to set up our feedback system."
   ]
  },
  {
   "cell_type": "code",
   "execution_count": 2,
   "id": "noble-africa",
   "metadata": {
    "execution": {
     "iopub.execute_input": "2021-03-31T15:13:52.487920Z",
     "iopub.status.busy": "2021-03-31T15:13:52.487195Z",
     "iopub.status.idle": "2021-03-31T15:13:52.560476Z",
     "shell.execute_reply": "2021-03-31T15:13:52.559671Z"
    },
    "papermill": {
     "duration": 0.103556,
     "end_time": "2021-03-31T15:13:52.560671",
     "exception": false,
     "start_time": "2021-03-31T15:13:52.457115",
     "status": "completed"
    },
    "tags": []
   },
   "outputs": [
    {
     "name": "stdout",
     "output_type": "stream",
     "text": [
      "Setup Complete\n"
     ]
    }
   ],
   "source": [
    "# Set up code checking\n",
    "import os\n",
    "if not os.path.exists(\"../input/candy.csv\"):\n",
    "    os.symlink(\"../input/data-for-datavis/candy.csv\", \"../input/candy.csv\") \n",
    "from learntools.core import binder\n",
    "binder.bind(globals())\n",
    "from learntools.data_viz_to_coder.ex4 import *\n",
    "print(\"Setup Complete\")"
   ]
  },
  {
   "cell_type": "markdown",
   "id": "adapted-brief",
   "metadata": {
    "papermill": {
     "duration": 0.025492,
     "end_time": "2021-03-31T15:13:52.612497",
     "exception": false,
     "start_time": "2021-03-31T15:13:52.587005",
     "status": "completed"
    },
    "tags": []
   },
   "source": [
    "## Step 1: Load the Data\n",
    "\n",
    "Read the candy data file into `candy_data`.  Use the `\"id\"` column to label the rows."
   ]
  },
  {
   "cell_type": "code",
   "execution_count": 3,
   "id": "given-mandate",
   "metadata": {
    "execution": {
     "iopub.execute_input": "2021-03-31T15:13:52.670161Z",
     "iopub.status.busy": "2021-03-31T15:13:52.669523Z",
     "iopub.status.idle": "2021-03-31T15:13:52.683289Z",
     "shell.execute_reply": "2021-03-31T15:13:52.683814Z"
    },
    "papermill": {
     "duration": 0.045063,
     "end_time": "2021-03-31T15:13:52.683983",
     "exception": false,
     "start_time": "2021-03-31T15:13:52.638920",
     "status": "completed"
    },
    "tags": []
   },
   "outputs": [
    {
     "data": {
      "application/javascript": [
       "parent.postMessage({\"jupyterEvent\": \"custom.exercise_interaction\", \"data\": {\"outcomeType\": 1, \"valueTowardsCompletion\": 0.3333333333333333, \"interactionType\": 1, \"questionType\": 1, \"questionId\": \"1_LoadData\", \"learnToolsVersion\": \"0.3.4\", \"failureMessage\": \"\", \"exceptionClass\": \"\", \"trace\": \"\"}}, \"*\")"
      ],
      "text/plain": [
       "<IPython.core.display.Javascript object>"
      ]
     },
     "metadata": {},
     "output_type": "display_data"
    },
    {
     "data": {
      "text/markdown": [
       "<span style=\"color:#33cc33\">Correct</span>"
      ],
      "text/plain": [
       "Correct"
      ]
     },
     "metadata": {},
     "output_type": "display_data"
    }
   ],
   "source": [
    "# Path of the file to read\n",
    "candy_filepath = \"../input/candy.csv\"\n",
    "\n",
    "# Fill in the line below to read the file into a variable candy_data\n",
    "candy_data = pd.read_csv(candy_filepath,index_col='id')\n",
    "\n",
    "# Run the line below with no changes to check that you've loaded the data correctly\n",
    "step_1.check()"
   ]
  },
  {
   "cell_type": "code",
   "execution_count": 4,
   "id": "competent-heritage",
   "metadata": {
    "execution": {
     "iopub.execute_input": "2021-03-31T15:13:52.741527Z",
     "iopub.status.busy": "2021-03-31T15:13:52.740547Z",
     "iopub.status.idle": "2021-03-31T15:13:52.744006Z",
     "shell.execute_reply": "2021-03-31T15:13:52.744568Z"
    },
    "papermill": {
     "duration": 0.033867,
     "end_time": "2021-03-31T15:13:52.744732",
     "exception": false,
     "start_time": "2021-03-31T15:13:52.710865",
     "status": "completed"
    },
    "tags": []
   },
   "outputs": [],
   "source": [
    "# Lines below will give you a hint or solution code\n",
    "#step_1.hint()\n",
    "#step_1.solution()"
   ]
  },
  {
   "cell_type": "markdown",
   "id": "framed-philip",
   "metadata": {
    "papermill": {
     "duration": 0.027089,
     "end_time": "2021-03-31T15:13:52.798641",
     "exception": false,
     "start_time": "2021-03-31T15:13:52.771552",
     "status": "completed"
    },
    "tags": []
   },
   "source": [
    "## Step 2: Review the data\n",
    "\n",
    "Use a Python command to print the first five rows of the data."
   ]
  },
  {
   "cell_type": "code",
   "execution_count": 5,
   "id": "drawn-wiring",
   "metadata": {
    "execution": {
     "iopub.execute_input": "2021-03-31T15:13:52.857765Z",
     "iopub.status.busy": "2021-03-31T15:13:52.857079Z",
     "iopub.status.idle": "2021-03-31T15:13:52.878456Z",
     "shell.execute_reply": "2021-03-31T15:13:52.878950Z"
    },
    "papermill": {
     "duration": 0.053647,
     "end_time": "2021-03-31T15:13:52.879121",
     "exception": false,
     "start_time": "2021-03-31T15:13:52.825474",
     "status": "completed"
    },
    "tags": []
   },
   "outputs": [
    {
     "data": {
      "text/html": [
       "<div>\n",
       "<style scoped>\n",
       "    .dataframe tbody tr th:only-of-type {\n",
       "        vertical-align: middle;\n",
       "    }\n",
       "\n",
       "    .dataframe tbody tr th {\n",
       "        vertical-align: top;\n",
       "    }\n",
       "\n",
       "    .dataframe thead th {\n",
       "        text-align: right;\n",
       "    }\n",
       "</style>\n",
       "<table border=\"1\" class=\"dataframe\">\n",
       "  <thead>\n",
       "    <tr style=\"text-align: right;\">\n",
       "      <th></th>\n",
       "      <th>competitorname</th>\n",
       "      <th>chocolate</th>\n",
       "      <th>fruity</th>\n",
       "      <th>caramel</th>\n",
       "      <th>peanutyalmondy</th>\n",
       "      <th>nougat</th>\n",
       "      <th>crispedricewafer</th>\n",
       "      <th>hard</th>\n",
       "      <th>bar</th>\n",
       "      <th>pluribus</th>\n",
       "      <th>sugarpercent</th>\n",
       "      <th>pricepercent</th>\n",
       "      <th>winpercent</th>\n",
       "    </tr>\n",
       "    <tr>\n",
       "      <th>id</th>\n",
       "      <th></th>\n",
       "      <th></th>\n",
       "      <th></th>\n",
       "      <th></th>\n",
       "      <th></th>\n",
       "      <th></th>\n",
       "      <th></th>\n",
       "      <th></th>\n",
       "      <th></th>\n",
       "      <th></th>\n",
       "      <th></th>\n",
       "      <th></th>\n",
       "      <th></th>\n",
       "    </tr>\n",
       "  </thead>\n",
       "  <tbody>\n",
       "    <tr>\n",
       "      <th>0</th>\n",
       "      <td>100 Grand</td>\n",
       "      <td>Yes</td>\n",
       "      <td>No</td>\n",
       "      <td>Yes</td>\n",
       "      <td>No</td>\n",
       "      <td>No</td>\n",
       "      <td>Yes</td>\n",
       "      <td>No</td>\n",
       "      <td>Yes</td>\n",
       "      <td>No</td>\n",
       "      <td>0.732</td>\n",
       "      <td>0.860</td>\n",
       "      <td>66.971725</td>\n",
       "    </tr>\n",
       "    <tr>\n",
       "      <th>1</th>\n",
       "      <td>3 Musketeers</td>\n",
       "      <td>Yes</td>\n",
       "      <td>No</td>\n",
       "      <td>No</td>\n",
       "      <td>No</td>\n",
       "      <td>Yes</td>\n",
       "      <td>No</td>\n",
       "      <td>No</td>\n",
       "      <td>Yes</td>\n",
       "      <td>No</td>\n",
       "      <td>0.604</td>\n",
       "      <td>0.511</td>\n",
       "      <td>67.602936</td>\n",
       "    </tr>\n",
       "    <tr>\n",
       "      <th>2</th>\n",
       "      <td>Air Heads</td>\n",
       "      <td>No</td>\n",
       "      <td>Yes</td>\n",
       "      <td>No</td>\n",
       "      <td>No</td>\n",
       "      <td>No</td>\n",
       "      <td>No</td>\n",
       "      <td>No</td>\n",
       "      <td>No</td>\n",
       "      <td>No</td>\n",
       "      <td>0.906</td>\n",
       "      <td>0.511</td>\n",
       "      <td>52.341465</td>\n",
       "    </tr>\n",
       "    <tr>\n",
       "      <th>3</th>\n",
       "      <td>Almond Joy</td>\n",
       "      <td>Yes</td>\n",
       "      <td>No</td>\n",
       "      <td>No</td>\n",
       "      <td>Yes</td>\n",
       "      <td>No</td>\n",
       "      <td>No</td>\n",
       "      <td>No</td>\n",
       "      <td>Yes</td>\n",
       "      <td>No</td>\n",
       "      <td>0.465</td>\n",
       "      <td>0.767</td>\n",
       "      <td>50.347546</td>\n",
       "    </tr>\n",
       "    <tr>\n",
       "      <th>4</th>\n",
       "      <td>Baby Ruth</td>\n",
       "      <td>Yes</td>\n",
       "      <td>No</td>\n",
       "      <td>Yes</td>\n",
       "      <td>Yes</td>\n",
       "      <td>Yes</td>\n",
       "      <td>No</td>\n",
       "      <td>No</td>\n",
       "      <td>Yes</td>\n",
       "      <td>No</td>\n",
       "      <td>0.604</td>\n",
       "      <td>0.767</td>\n",
       "      <td>56.914547</td>\n",
       "    </tr>\n",
       "  </tbody>\n",
       "</table>\n",
       "</div>"
      ],
      "text/plain": [
       "   competitorname chocolate fruity caramel peanutyalmondy nougat  \\\n",
       "id                                                                 \n",
       "0       100 Grand       Yes     No     Yes             No     No   \n",
       "1    3 Musketeers       Yes     No      No             No    Yes   \n",
       "2       Air Heads        No    Yes      No             No     No   \n",
       "3      Almond Joy       Yes     No      No            Yes     No   \n",
       "4       Baby Ruth       Yes     No     Yes            Yes    Yes   \n",
       "\n",
       "   crispedricewafer hard  bar pluribus  sugarpercent  pricepercent  winpercent  \n",
       "id                                                                              \n",
       "0               Yes   No  Yes       No         0.732         0.860   66.971725  \n",
       "1                No   No  Yes       No         0.604         0.511   67.602936  \n",
       "2                No   No   No       No         0.906         0.511   52.341465  \n",
       "3                No   No  Yes       No         0.465         0.767   50.347546  \n",
       "4                No   No  Yes       No         0.604         0.767   56.914547  "
      ]
     },
     "execution_count": 5,
     "metadata": {},
     "output_type": "execute_result"
    }
   ],
   "source": [
    "# Print the first five rows of the data\n",
    "____ # Your code here\n",
    "candy_data.head()"
   ]
  },
  {
   "cell_type": "markdown",
   "id": "transsexual-alpha",
   "metadata": {
    "papermill": {
     "duration": 0.027189,
     "end_time": "2021-03-31T15:13:52.934078",
     "exception": false,
     "start_time": "2021-03-31T15:13:52.906889",
     "status": "completed"
    },
    "tags": []
   },
   "source": [
    "The dataset contains 83 rows, where each corresponds to a different candy bar.  There are 13 columns:\n",
    "- `'competitorname'` contains the name of the candy bar. \n",
    "- the next **9** columns (from `'chocolate'` to `'pluribus'`) describe the candy.  For instance, rows with chocolate candies have `\"Yes\"` in the `'chocolate'` column (and candies without chocolate have `\"No\"` in the same column).\n",
    "- `'sugarpercent'` provides some indication of the amount of sugar, where higher values signify higher sugar content.\n",
    "- `'pricepercent'` shows the price per unit, relative to the other candies in the dataset.\n",
    "- `'winpercent'` is calculated from the survey results; higher values indicate that the candy was more popular with survey respondents.\n",
    "\n",
    "Use the first five rows of the data to answer the questions below."
   ]
  },
  {
   "cell_type": "code",
   "execution_count": 6,
   "id": "extensive-round",
   "metadata": {
    "execution": {
     "iopub.execute_input": "2021-03-31T15:13:52.994068Z",
     "iopub.status.busy": "2021-03-31T15:13:52.993390Z",
     "iopub.status.idle": "2021-03-31T15:13:52.998369Z",
     "shell.execute_reply": "2021-03-31T15:13:52.998946Z"
    },
    "papermill": {
     "duration": 0.037527,
     "end_time": "2021-03-31T15:13:52.999118",
     "exception": false,
     "start_time": "2021-03-31T15:13:52.961591",
     "status": "completed"
    },
    "tags": []
   },
   "outputs": [
    {
     "data": {
      "application/javascript": [
       "parent.postMessage({\"jupyterEvent\": \"custom.exercise_interaction\", \"data\": {\"outcomeType\": 1, \"valueTowardsCompletion\": 0.3333333333333333, \"interactionType\": 1, \"questionType\": 1, \"questionId\": \"2_ReviewData\", \"learnToolsVersion\": \"0.3.4\", \"failureMessage\": \"\", \"exceptionClass\": \"\", \"trace\": \"\"}}, \"*\")"
      ],
      "text/plain": [
       "<IPython.core.display.Javascript object>"
      ]
     },
     "metadata": {},
     "output_type": "display_data"
    },
    {
     "data": {
      "text/markdown": [
       "<span style=\"color:#33cc33\">Correct</span>"
      ],
      "text/plain": [
       "Correct"
      ]
     },
     "metadata": {},
     "output_type": "display_data"
    }
   ],
   "source": [
    "# Fill in the line below: Which candy was more popular with survey respondents:\n",
    "# '3 Musketeers' or 'Almond Joy'?  (Please enclose your answer in single quotes.)\n",
    "more_popular = '3 Musketeers'\n",
    "\n",
    "# Fill in the line below: Which candy has higher sugar content: 'Air Heads'\n",
    "# or 'Baby Ruth'? (Please enclose your answer in single quotes.)\n",
    "more_sugar = 'Air Heads'\n",
    "\n",
    "# Check your answers\n",
    "step_2.check()"
   ]
  },
  {
   "cell_type": "code",
   "execution_count": 7,
   "id": "august-bowling",
   "metadata": {
    "execution": {
     "iopub.execute_input": "2021-03-31T15:13:53.061938Z",
     "iopub.status.busy": "2021-03-31T15:13:53.061269Z",
     "iopub.status.idle": "2021-03-31T15:13:53.064701Z",
     "shell.execute_reply": "2021-03-31T15:13:53.065135Z"
    },
    "papermill": {
     "duration": 0.037473,
     "end_time": "2021-03-31T15:13:53.065322",
     "exception": false,
     "start_time": "2021-03-31T15:13:53.027849",
     "status": "completed"
    },
    "tags": []
   },
   "outputs": [],
   "source": [
    "# Lines below will give you a hint or solution code\n",
    "#step_2.hint()\n",
    "#step_2.solution()"
   ]
  },
  {
   "cell_type": "markdown",
   "id": "moved-brass",
   "metadata": {
    "papermill": {
     "duration": 0.028344,
     "end_time": "2021-03-31T15:13:53.123258",
     "exception": false,
     "start_time": "2021-03-31T15:13:53.094914",
     "status": "completed"
    },
    "tags": []
   },
   "source": [
    "## Step 3: The role of sugar\n",
    "\n",
    "Do people tend to prefer candies with higher sugar content?  \n",
    "\n",
    "#### Part A\n",
    "\n",
    "Create a scatter plot that shows the relationship between `'sugarpercent'` (on the horizontal x-axis) and `'winpercent'` (on the vertical y-axis).  _Don't add a regression line just yet -- you'll do that in the next step!_"
   ]
  },
  {
   "cell_type": "code",
   "execution_count": 8,
   "id": "geological-justice",
   "metadata": {
    "execution": {
     "iopub.execute_input": "2021-03-31T15:13:53.184069Z",
     "iopub.status.busy": "2021-03-31T15:13:53.183417Z",
     "iopub.status.idle": "2021-03-31T15:13:53.413373Z",
     "shell.execute_reply": "2021-03-31T15:13:53.412803Z"
    },
    "papermill": {
     "duration": 0.261355,
     "end_time": "2021-03-31T15:13:53.413537",
     "exception": false,
     "start_time": "2021-03-31T15:13:53.152182",
     "status": "completed"
    },
    "tags": []
   },
   "outputs": [
    {
     "data": {
      "application/javascript": [
       "parent.postMessage({\"jupyterEvent\": \"custom.exercise_interaction\", \"data\": {\"outcomeType\": 1, \"valueTowardsCompletion\": 0.3333333333333333, \"interactionType\": 1, \"questionType\": 2, \"questionId\": \"3.1_PlotBlueScatter\", \"learnToolsVersion\": \"0.3.4\", \"failureMessage\": \"\", \"exceptionClass\": \"\", \"trace\": \"\"}}, \"*\")"
      ],
      "text/plain": [
       "<IPython.core.display.Javascript object>"
      ]
     },
     "metadata": {},
     "output_type": "display_data"
    },
    {
     "data": {
      "text/markdown": [
       "<span style=\"color:#33cc33\">Correct</span>"
      ],
      "text/plain": [
       "Correct"
      ]
     },
     "metadata": {},
     "output_type": "display_data"
    },
    {
     "data": {
      "image/png": "[encoded data removed]",
      "text/plain": [
       "<Figure size 432x288 with 1 Axes>"
      ]
     },
     "metadata": {
      "needs_background": "light"
     },
     "output_type": "display_data"
    }
   ],
   "source": [
    "# Scatter plot showing the relationship between 'sugarpercent' and 'winpercent'\n",
    "____ # Your code here\n",
    "sns.scatterplot(x='sugarpercent',y='winpercent',data=candy_data)\n",
    "# Check your answer\n",
    "step_3.a.check()"
   ]
  },
  {
   "cell_type": "code",
   "execution_count": 9,
   "id": "legal-checklist",
   "metadata": {
    "execution": {
     "iopub.execute_input": "2021-03-31T15:13:53.478559Z",
     "iopub.status.busy": "2021-03-31T15:13:53.477960Z",
     "iopub.status.idle": "2021-03-31T15:13:53.481332Z",
     "shell.execute_reply": "2021-03-31T15:13:53.480821Z"
    },
    "papermill": {
     "duration": 0.037438,
     "end_time": "2021-03-31T15:13:53.481470",
     "exception": false,
     "start_time": "2021-03-31T15:13:53.444032",
     "status": "completed"
    },
    "tags": []
   },
   "outputs": [],
   "source": [
    "# Lines below will give you a hint or solution code\n",
    "#step_3.a.hint()\n",
    "#step_3.a.solution_plot()"
   ]
  },
  {
   "cell_type": "markdown",
   "id": "returning-curve",
   "metadata": {
    "papermill": {
     "duration": 0.030334,
     "end_time": "2021-03-31T15:13:53.542379",
     "exception": false,
     "start_time": "2021-03-31T15:13:53.512045",
     "status": "completed"
    },
    "tags": []
   },
   "source": [
    "#### Part B\n",
    "\n",
    "Does the scatter plot show a **strong** correlation between the two variables?  If so, are candies with more sugar relatively more or less popular with the survey respondents?"
   ]
  },
  {
   "cell_type": "code",
   "execution_count": 10,
   "id": "blond-richardson",
   "metadata": {
    "execution": {
     "iopub.execute_input": "2021-03-31T15:13:53.607487Z",
     "iopub.status.busy": "2021-03-31T15:13:53.606817Z",
     "iopub.status.idle": "2021-03-31T15:13:53.610477Z",
     "shell.execute_reply": "2021-03-31T15:13:53.611038Z"
    },
    "papermill": {
     "duration": 0.037642,
     "end_time": "2021-03-31T15:13:53.611219",
     "exception": false,
     "start_time": "2021-03-31T15:13:53.573577",
     "status": "completed"
    },
    "tags": []
   },
   "outputs": [],
   "source": [
    "#step_3.b.hint()"
   ]
  },
  {
   "cell_type": "code",
   "execution_count": 11,
   "id": "capable-routine",
   "metadata": {
    "execution": {
     "iopub.execute_input": "2021-03-31T15:13:53.676880Z",
     "iopub.status.busy": "2021-03-31T15:13:53.676191Z",
     "iopub.status.idle": "2021-03-31T15:13:53.682467Z",
     "shell.execute_reply": "2021-03-31T15:13:53.682939Z"
    },
    "papermill": {
     "duration": 0.041,
     "end_time": "2021-03-31T15:13:53.683102",
     "exception": false,
     "start_time": "2021-03-31T15:13:53.642102",
     "status": "completed"
    },
    "tags": []
   },
   "outputs": [
    {
     "data": {
      "application/javascript": [
       "parent.postMessage({\"jupyterEvent\": \"custom.exercise_interaction\", \"data\": {\"interactionType\": 3, \"questionType\": 4, \"questionId\": \"3.2_ThinkBlueScatter\", \"learnToolsVersion\": \"0.3.4\", \"valueTowardsCompletion\": 0.0, \"failureMessage\": \"\", \"exceptionClass\": \"\", \"trace\": \"\", \"outcomeType\": 4}}, \"*\")"
      ],
      "text/plain": [
       "<IPython.core.display.Javascript object>"
      ]
     },
     "metadata": {},
     "output_type": "display_data"
    },
    {
     "data": {
      "text/markdown": [
       "<span style=\"color:#33cc99\">Solution:</span> The scatter plot does not show a strong correlation between the two variables. Since there is no clear relationship between the two variables, this tells us that sugar content does not play a strong role in candy popularity."
      ],
      "text/plain": [
       "Solution: The scatter plot does not show a strong correlation between the two variables. Since there is no clear relationship between the two variables, this tells us that sugar content does not play a strong role in candy popularity."
      ]
     },
     "metadata": {},
     "output_type": "display_data"
    }
   ],
   "source": [
    "# Check your answer (Run this code cell to receive credit!)\n",
    "step_3.b.solution()"
   ]
  },
  {
   "cell_type": "markdown",
   "id": "changing-compound",
   "metadata": {
    "papermill": {
     "duration": 0.031676,
     "end_time": "2021-03-31T15:13:53.746827",
     "exception": false,
     "start_time": "2021-03-31T15:13:53.715151",
     "status": "completed"
    },
    "tags": []
   },
   "source": [
    "## Step 4: Take a closer look\n",
    "\n",
    "#### Part A\n",
    "\n",
    "Create the same scatter plot you created in **Step 3**, but now with a regression line!"
   ]
  },
  {
   "cell_type": "code",
   "execution_count": 12,
   "id": "polyphonic-receiver",
   "metadata": {
    "execution": {
     "iopub.execute_input": "2021-03-31T15:13:53.815254Z",
     "iopub.status.busy": "2021-03-31T15:13:53.814609Z",
     "iopub.status.idle": "2021-03-31T15:13:54.083344Z",
     "shell.execute_reply": "2021-03-31T15:13:54.082687Z"
    },
    "papermill": {
     "duration": 0.304751,
     "end_time": "2021-03-31T15:13:54.083502",
     "exception": false,
     "start_time": "2021-03-31T15:13:53.778751",
     "status": "completed"
    },
    "tags": []
   },
   "outputs": [
    {
     "data": {
      "application/javascript": [
       "parent.postMessage({\"jupyterEvent\": \"custom.exercise_interaction\", \"data\": {\"outcomeType\": 1, \"valueTowardsCompletion\": 0.3333333333333333, \"interactionType\": 1, \"questionType\": 2, \"questionId\": \"4.1_PlotBlueReg\", \"learnToolsVersion\": \"0.3.4\", \"failureMessage\": \"\", \"exceptionClass\": \"\", \"trace\": \"\"}}, \"*\")"
      ],
      "text/plain": [
       "<IPython.core.display.Javascript object>"
      ]
     },
     "metadata": {},
     "output_type": "display_data"
    },
    {
     "data": {
      "text/markdown": [
       "<span style=\"color:#33cc33\">Correct</span>"
      ],
      "text/plain": [
       "Correct"
      ]
     },
     "metadata": {},
     "output_type": "display_data"
    },
    {
     "data": {
      "image/png": "[encoded data removed]",
      "text/plain": [
       "<Figure size 432x288 with 1 Axes>"
      ]
     },
     "metadata": {
      "needs_background": "light"
     },
     "output_type": "display_data"
    }
   ],
   "source": [
    "# Scatter plot w/ regression line showing the relationship between 'sugarpercent' and 'winpercent'\n",
    "____ # Your code here\n",
    "sns.regplot(x='sugarpercent',y='winpercent',data=candy_data)\n",
    "# Check your answer\n",
    "step_4.a.check()"
   ]
  },
  {
   "cell_type": "code",
   "execution_count": 13,
   "id": "speaking-privacy",
   "metadata": {
    "execution": {
     "iopub.execute_input": "2021-03-31T15:13:54.170428Z",
     "iopub.status.busy": "2021-03-31T15:13:54.169216Z",
     "iopub.status.idle": "2021-03-31T15:13:54.172194Z",
     "shell.execute_reply": "2021-03-31T15:13:54.172749Z"
    },
    "papermill": {
     "duration": 0.04886,
     "end_time": "2021-03-31T15:13:54.172937",
     "exception": false,
     "start_time": "2021-03-31T15:13:54.124077",
     "status": "completed"
    },
    "tags": []
   },
   "outputs": [],
   "source": [
    "# Lines below will give you a hint or solution code\n",
    "#step_4.a.hint()\n",
    "#step_4.a.solution_plot()"
   ]
  },
  {
   "cell_type": "markdown",
   "id": "typical-jefferson",
   "metadata": {
    "papermill": {
     "duration": 0.033837,
     "end_time": "2021-03-31T15:13:54.245032",
     "exception": false,
     "start_time": "2021-03-31T15:13:54.211195",
     "status": "completed"
    },
    "tags": []
   },
   "source": [
    "#### Part B\n",
    "\n",
    "According to the plot above, is there a **slight** correlation between `'winpercent'` and `'sugarpercent'`?  What does this tell you about the candy that people tend to prefer?"
   ]
  },
  {
   "cell_type": "code",
   "execution_count": 14,
   "id": "numerous-excerpt",
   "metadata": {
    "execution": {
     "iopub.execute_input": "2021-03-31T15:13:54.316340Z",
     "iopub.status.busy": "2021-03-31T15:13:54.315656Z",
     "iopub.status.idle": "2021-03-31T15:13:54.318992Z",
     "shell.execute_reply": "2021-03-31T15:13:54.319628Z"
    },
    "papermill": {
     "duration": 0.040869,
     "end_time": "2021-03-31T15:13:54.319795",
     "exception": false,
     "start_time": "2021-03-31T15:13:54.278926",
     "status": "completed"
    },
    "tags": []
   },
   "outputs": [],
   "source": [
    "#step_4.b.hint()"
   ]
  },
  {
   "cell_type": "code",
   "execution_count": 15,
   "id": "prescribed-suggestion",
   "metadata": {
    "execution": {
     "iopub.execute_input": "2021-03-31T15:13:54.392601Z",
     "iopub.status.busy": "2021-03-31T15:13:54.391859Z",
     "iopub.status.idle": "2021-03-31T15:13:54.397542Z",
     "shell.execute_reply": "2021-03-31T15:13:54.398041Z"
    },
    "papermill": {
     "duration": 0.043101,
     "end_time": "2021-03-31T15:13:54.398210",
     "exception": false,
     "start_time": "2021-03-31T15:13:54.355109",
     "status": "completed"
    },
    "tags": []
   },
   "outputs": [
    {
     "data": {
      "application/javascript": [
       "parent.postMessage({\"jupyterEvent\": \"custom.exercise_interaction\", \"data\": {\"interactionType\": 3, \"questionType\": 4, \"questionId\": \"4.2_ThinkBlueReg\", \"learnToolsVersion\": \"0.3.4\", \"valueTowardsCompletion\": 0.0, \"failureMessage\": \"\", \"exceptionClass\": \"\", \"trace\": \"\", \"outcomeType\": 4}}, \"*\")"
      ],
      "text/plain": [
       "<IPython.core.display.Javascript object>"
      ]
     },
     "metadata": {},
     "output_type": "display_data"
    },
    {
     "data": {
      "text/markdown": [
       "<span style=\"color:#33cc99\">Solution:</span> Since the regression line has a slightly positive slope, this tells us that there is a slightly positive correlation between `'winpercent'` and `'sugarpercent'`. Thus, people have a slight preference for candies containing relatively more sugar."
      ],
      "text/plain": [
       "Solution: Since the regression line has a slightly positive slope, this tells us that there is a slightly positive correlation between `'winpercent'` and `'sugarpercent'`. Thus, people have a slight preference for candies containing relatively more sugar."
      ]
     },
     "metadata": {},
     "output_type": "display_data"
    }
   ],
   "source": [
    "# Check your answer (Run this code cell to receive credit!)\n",
    "step_4.b.solution()"
   ]
  },
  {
   "cell_type": "markdown",
   "id": "distributed-calvin",
   "metadata": {
    "papermill": {
     "duration": 0.03507,
     "end_time": "2021-03-31T15:13:54.468961",
     "exception": false,
     "start_time": "2021-03-31T15:13:54.433891",
     "status": "completed"
    },
    "tags": []
   },
   "source": [
    "## Step 5: Chocolate!\n",
    "\n",
    "In the code cell below, create a scatter plot to show the relationship between `'pricepercent'` (on the horizontal x-axis) and `'winpercent'` (on the vertical y-axis). Use the `'chocolate'` column to color-code the points.  _Don't add any regression lines just yet -- you'll do that in the next step!_"
   ]
  },
  {
   "cell_type": "code",
   "execution_count": 16,
   "id": "atmospheric-times",
   "metadata": {
    "execution": {
     "iopub.execute_input": "2021-03-31T15:13:54.543075Z",
     "iopub.status.busy": "2021-03-31T15:13:54.542427Z",
     "iopub.status.idle": "2021-03-31T15:13:54.776602Z",
     "shell.execute_reply": "2021-03-31T15:13:54.775511Z"
    },
    "papermill": {
     "duration": 0.272523,
     "end_time": "2021-03-31T15:13:54.776760",
     "exception": false,
     "start_time": "2021-03-31T15:13:54.504237",
     "status": "completed"
    },
    "tags": []
   },
   "outputs": [
    {
     "data": {
      "application/javascript": [
       "parent.postMessage({\"jupyterEvent\": \"custom.exercise_interaction\", \"data\": {\"outcomeType\": 1, \"valueTowardsCompletion\": 0.3333333333333333, \"interactionType\": 1, \"questionType\": 2, \"questionId\": \"5_ColorScatter\", \"learnToolsVersion\": \"0.3.4\", \"failureMessage\": \"\", \"exceptionClass\": \"\", \"trace\": \"\"}}, \"*\")"
      ],
      "text/plain": [
       "<IPython.core.display.Javascript object>"
      ]
     },
     "metadata": {},
     "output_type": "display_data"
    },
    {
     "data": {
      "text/markdown": [
       "<span style=\"color:#33cc33\">Correct</span>"
      ],
      "text/plain": [
       "Correct"
      ]
     },
     "metadata": {},
     "output_type": "display_data"
    },
    {
     "data": {
      "image/png": "[encoded data removed]",
      "text/plain": [
       "<Figure size 432x288 with 1 Axes>"
      ]
     },
     "metadata": {
      "needs_background": "light"
     },
     "output_type": "display_data"
    }
   ],
   "source": [
    "# Scatter plot showing the relationship between 'pricepercent', 'winpercent', and 'chocolate'\n",
    "____ # Your code here\n",
    "sns.scatterplot(x='sugarpercent',y='winpercent',hue='chocolate',data=candy_data)\n",
    "# Check your answer\n",
    "step_5.check()"
   ]
  },
  {
   "cell_type": "code",
   "execution_count": 17,
   "id": "pregnant-directive",
   "metadata": {
    "execution": {
     "iopub.execute_input": "2021-03-31T15:13:54.856284Z",
     "iopub.status.busy": "2021-03-31T15:13:54.855682Z",
     "iopub.status.idle": "2021-03-31T15:13:54.858527Z",
     "shell.execute_reply": "2021-03-31T15:13:54.857881Z"
    },
    "papermill": {
     "duration": 0.044092,
     "end_time": "2021-03-31T15:13:54.858662",
     "exception": false,
     "start_time": "2021-03-31T15:13:54.814570",
     "status": "completed"
    },
    "tags": []
   },
   "outputs": [],
   "source": [
    "# Lines below will give you a hint or solution code\n",
    "#step_5.hint()\n",
    "#step_5.solution_plot()"
   ]
  },
  {
   "cell_type": "markdown",
   "id": "varying-circumstances",
   "metadata": {
    "papermill": {
     "duration": 0.037891,
     "end_time": "2021-03-31T15:13:54.935102",
     "exception": false,
     "start_time": "2021-03-31T15:13:54.897211",
     "status": "completed"
    },
    "tags": []
   },
   "source": [
    "Can you see any interesting patterns in the scatter plot?  We'll investigate this plot further  by adding regression lines in the next step!\n",
    "\n",
    "## Step 6: Investigate chocolate\n",
    "\n",
    "#### Part A\n",
    "\n",
    "Create the same scatter plot you created in **Step 5**, but now with two regression lines, corresponding to (1) chocolate candies and (2) candies without chocolate."
   ]
  },
  {
   "cell_type": "code",
   "execution_count": 18,
   "id": "informational-deposit",
   "metadata": {
    "execution": {
     "iopub.execute_input": "2021-03-31T15:13:55.014136Z",
     "iopub.status.busy": "2021-03-31T15:13:55.013486Z",
     "iopub.status.idle": "2021-03-31T15:13:55.561429Z",
     "shell.execute_reply": "2021-03-31T15:13:55.561929Z"
    },
    "papermill": {
     "duration": 0.589094,
     "end_time": "2021-03-31T15:13:55.562099",
     "exception": false,
     "start_time": "2021-03-31T15:13:54.973005",
     "status": "completed"
    },
    "tags": []
   },
   "outputs": [
    {
     "data": {
      "application/javascript": [
       "parent.postMessage({\"jupyterEvent\": \"custom.exercise_interaction\", \"data\": {\"outcomeType\": 1, \"valueTowardsCompletion\": 0.3333333333333333, \"interactionType\": 1, \"questionType\": 2, \"questionId\": \"6.1_PlotColorReg\", \"learnToolsVersion\": \"0.3.4\", \"failureMessage\": \"\", \"exceptionClass\": \"\", \"trace\": \"\"}}, \"*\")"
      ],
      "text/plain": [
       "<IPython.core.display.Javascript object>"
      ]
     },
     "metadata": {},
     "output_type": "display_data"
    },
    {
     "data": {
      "text/markdown": [
       "<span style=\"color:#33cc33\">Correct</span>"
      ],
      "text/plain": [
       "Correct"
      ]
     },
     "metadata": {},
     "output_type": "display_data"
    },
    {
     "data": {
      "image/png": "[encoded data removed]",
      "text/plain": [
       "<Figure size 416.375x360 with 1 Axes>"
      ]
     },
     "metadata": {
      "needs_background": "light"
     },
     "output_type": "display_data"
    }
   ],
   "source": [
    "# Color-coded scatter plot w/ regression lines\n",
    "____ # Your code here\n",
    "sns.lmplot(x='sugarpercent',y='winpercent',hue='chocolate',data=candy_data)\n",
    "# Check your answer\n",
    "step_6.a.check()"
   ]
  },
  {
   "cell_type": "code",
   "execution_count": 19,
   "id": "measured-composer",
   "metadata": {
    "execution": {
     "iopub.execute_input": "2021-03-31T15:13:55.645717Z",
     "iopub.status.busy": "2021-03-31T15:13:55.645068Z",
     "iopub.status.idle": "2021-03-31T15:13:55.647971Z",
     "shell.execute_reply": "2021-03-31T15:13:55.648415Z"
    },
    "papermill": {
     "duration": 0.045968,
     "end_time": "2021-03-31T15:13:55.648578",
     "exception": false,
     "start_time": "2021-03-31T15:13:55.602610",
     "status": "completed"
    },
    "tags": []
   },
   "outputs": [],
   "source": [
    "# Lines below will give you a hint or solution code\n",
    "#step_6.a.hint()\n",
    "#step_6.a.solution_plot()"
   ]
  },
  {
   "cell_type": "markdown",
   "id": "beautiful-raising",
   "metadata": {
    "papermill": {
     "duration": 0.039408,
     "end_time": "2021-03-31T15:13:55.728049",
     "exception": false,
     "start_time": "2021-03-31T15:13:55.688641",
     "status": "completed"
    },
    "tags": []
   },
   "source": [
    "#### Part B\n",
    "\n",
    "Using the regression lines, what conclusions can you draw about the effects of chocolate and price on candy popularity?"
   ]
  },
  {
   "cell_type": "code",
   "execution_count": 20,
   "id": "compressed-roots",
   "metadata": {
    "execution": {
     "iopub.execute_input": "2021-03-31T15:13:55.834595Z",
     "iopub.status.busy": "2021-03-31T15:13:55.832805Z",
     "iopub.status.idle": "2021-03-31T15:13:55.836699Z",
     "shell.execute_reply": "2021-03-31T15:13:55.837469Z"
    },
    "papermill": {
     "duration": 0.058911,
     "end_time": "2021-03-31T15:13:55.837725",
     "exception": false,
     "start_time": "2021-03-31T15:13:55.778814",
     "status": "completed"
    },
    "tags": []
   },
   "outputs": [],
   "source": [
    "#step_6.b.hint()"
   ]
  },
  {
   "cell_type": "code",
   "execution_count": 21,
   "id": "sporting-joseph",
   "metadata": {
    "execution": {
     "iopub.execute_input": "2021-03-31T15:13:55.939462Z",
     "iopub.status.busy": "2021-03-31T15:13:55.938799Z",
     "iopub.status.idle": "2021-03-31T15:13:55.948480Z",
     "shell.execute_reply": "2021-03-31T15:13:55.947948Z"
    },
    "papermill": {
     "duration": 0.065401,
     "end_time": "2021-03-31T15:13:55.948624",
     "exception": false,
     "start_time": "2021-03-31T15:13:55.883223",
     "status": "completed"
    },
    "tags": []
   },
   "outputs": [
    {
     "data": {
      "application/javascript": [
       "parent.postMessage({\"jupyterEvent\": \"custom.exercise_interaction\", \"data\": {\"interactionType\": 3, \"questionType\": 4, \"questionId\": \"6.2_ThinkColorReg\", \"learnToolsVersion\": \"0.3.4\", \"valueTowardsCompletion\": 0.0, \"failureMessage\": \"\", \"exceptionClass\": \"\", \"trace\": \"\", \"outcomeType\": 4}}, \"*\")"
      ],
      "text/plain": [
       "<IPython.core.display.Javascript object>"
      ]
     },
     "metadata": {},
     "output_type": "display_data"
    },
    {
     "data": {
      "text/markdown": [
       "<span style=\"color:#33cc99\">Solution:</span> We'll begin with the regression line for chocolate candies. Since this line has a slightly positive slope, we can say that more expensive chocolate candies tend to be more popular (than relatively cheaper chocolate candies).  Likewise, since the regression line for candies without chocolate has a negative slope, we can say that if candies don't contain chocolate, they tend to be more popular when they are cheaper.  One important note, however, is that the dataset is quite small -- so we shouldn't invest too much trust in these patterns!  To inspire more confidence in the results, we should add more candies to the dataset."
      ],
      "text/plain": [
       "Solution: We'll begin with the regression line for chocolate candies. Since this line has a slightly positive slope, we can say that more expensive chocolate candies tend to be more popular (than relatively cheaper chocolate candies).  Likewise, since the regression line for candies without chocolate has a negative slope, we can say that if candies don't contain chocolate, they tend to be more popular when they are cheaper.  One important note, however, is that the dataset is quite small -- so we shouldn't invest too much trust in these patterns!  To inspire more confidence in the results, we should add more candies to the dataset."
      ]
     },
     "metadata": {},
     "output_type": "display_data"
    }
   ],
   "source": [
    "# Check your answer (Run this code cell to receive credit!)\n",
    "step_6.b.solution()"
   ]
  },
  {
   "cell_type": "markdown",
   "id": "pharmaceutical-conservation",
   "metadata": {
    "papermill": {
     "duration": 0.054441,
     "end_time": "2021-03-31T15:13:56.050791",
     "exception": false,
     "start_time": "2021-03-31T15:13:55.996350",
     "status": "completed"
    },
    "tags": []
   },
   "source": [
    "## Step 7: Everybody loves chocolate.\n",
    "\n",
    "#### Part A\n",
    "\n",
    "Create a categorical scatter plot to highlight the relationship between `'chocolate'` and `'winpercent'`.  Put `'chocolate'` on the (horizontal) x-axis, and `'winpercent'` on the (vertical) y-axis."
   ]
  },
  {
   "cell_type": "code",
   "execution_count": 22,
   "id": "recent-universal",
   "metadata": {
    "execution": {
     "iopub.execute_input": "2021-03-31T15:13:56.171203Z",
     "iopub.status.busy": "2021-03-31T15:13:56.170047Z",
     "iopub.status.idle": "2021-03-31T15:13:56.352347Z",
     "shell.execute_reply": "2021-03-31T15:13:56.352988Z"
    },
    "papermill": {
     "duration": 0.246525,
     "end_time": "2021-03-31T15:13:56.353155",
     "exception": false,
     "start_time": "2021-03-31T15:13:56.106630",
     "status": "completed"
    },
    "tags": []
   },
   "outputs": [
    {
     "data": {
      "application/javascript": [
       "parent.postMessage({\"jupyterEvent\": \"custom.exercise_interaction\", \"data\": {\"outcomeType\": 1, \"valueTowardsCompletion\": 0.3333333333333333, \"interactionType\": 1, \"questionType\": 2, \"questionId\": \"7.1_PlotSwarm\", \"learnToolsVersion\": \"0.3.4\", \"failureMessage\": \"\", \"exceptionClass\": \"\", \"trace\": \"\"}}, \"*\")"
      ],
      "text/plain": [
       "<IPython.core.display.Javascript object>"
      ]
     },
     "metadata": {},
     "output_type": "display_data"
    },
    {
     "data": {
      "text/markdown": [
       "<span style=\"color:#33cc33\">Correct</span>"
      ],
      "text/plain": [
       "Correct"
      ]
     },
     "metadata": {},
     "output_type": "display_data"
    },
    {
     "data": {
      "image/png": "[encoded data removed]",
      "text/plain": [
       "<Figure size 432x288 with 1 Axes>"
      ]
     },
     "metadata": {
      "needs_background": "light"
     },
     "output_type": "display_data"
    }
   ],
   "source": [
    "# Scatter plot showing the relationship between 'chocolate' and 'winpercent'\n",
    "____ # Your code here\n",
    "sns.swarmplot(x='chocolate',y='winpercent',data=candy_data)\n",
    "# Check your answer\n",
    "step_7.a.check()"
   ]
  },
  {
   "cell_type": "code",
   "execution_count": 23,
   "id": "developed-breed",
   "metadata": {
    "execution": {
     "iopub.execute_input": "2021-03-31T15:13:56.444445Z",
     "iopub.status.busy": "2021-03-31T15:13:56.443502Z",
     "iopub.status.idle": "2021-03-31T15:13:56.447031Z",
     "shell.execute_reply": "2021-03-31T15:13:56.447620Z"
    },
    "papermill": {
     "duration": 0.051418,
     "end_time": "2021-03-31T15:13:56.447924",
     "exception": false,
     "start_time": "2021-03-31T15:13:56.396506",
     "status": "completed"
    },
    "tags": []
   },
   "outputs": [],
   "source": [
    "# Lines below will give you a hint or solution code\n",
    "#step_7.a.hint()\n",
    "#step_7.a.solution_plot()"
   ]
  },
  {
   "cell_type": "markdown",
   "id": "copyrighted-submission",
   "metadata": {
    "papermill": {
     "duration": 0.043033,
     "end_time": "2021-03-31T15:13:56.534361",
     "exception": false,
     "start_time": "2021-03-31T15:13:56.491328",
     "status": "completed"
    },
    "tags": []
   },
   "source": [
    "#### Part B\n",
    "\n",
    "You decide to dedicate a section of your report to the fact that chocolate candies tend to be more popular than candies without chocolate.  Which plot is more appropriate to tell this story: the plot from **Step 6**, or the plot from **Step 7**?"
   ]
  },
  {
   "cell_type": "code",
   "execution_count": 24,
   "id": "expired-unemployment",
   "metadata": {
    "execution": {
     "iopub.execute_input": "2021-03-31T15:13:56.627403Z",
     "iopub.status.busy": "2021-03-31T15:13:56.626522Z",
     "iopub.status.idle": "2021-03-31T15:13:56.629955Z",
     "shell.execute_reply": "2021-03-31T15:13:56.630945Z"
    },
    "papermill": {
     "duration": 0.053724,
     "end_time": "2021-03-31T15:13:56.631133",
     "exception": false,
     "start_time": "2021-03-31T15:13:56.577409",
     "status": "completed"
    },
    "tags": []
   },
   "outputs": [],
   "source": [
    "#step_7.b.hint()"
   ]
  },
  {
   "cell_type": "code",
   "execution_count": 25,
   "id": "cloudy-safety",
   "metadata": {
    "execution": {
     "iopub.execute_input": "2021-03-31T15:13:56.722479Z",
     "iopub.status.busy": "2021-03-31T15:13:56.721874Z",
     "iopub.status.idle": "2021-03-31T15:13:56.727667Z",
     "shell.execute_reply": "2021-03-31T15:13:56.728163Z"
    },
    "papermill": {
     "duration": 0.052871,
     "end_time": "2021-03-31T15:13:56.728333",
     "exception": false,
     "start_time": "2021-03-31T15:13:56.675462",
     "status": "completed"
    },
    "tags": []
   },
   "outputs": [
    {
     "data": {
      "application/javascript": [
       "parent.postMessage({\"jupyterEvent\": \"custom.exercise_interaction\", \"data\": {\"interactionType\": 3, \"questionType\": 4, \"questionId\": \"7.2_ThinkSwarm\", \"learnToolsVersion\": \"0.3.4\", \"valueTowardsCompletion\": 0.0, \"failureMessage\": \"\", \"exceptionClass\": \"\", \"trace\": \"\", \"outcomeType\": 4}}, \"*\")"
      ],
      "text/plain": [
       "<IPython.core.display.Javascript object>"
      ]
     },
     "metadata": {},
     "output_type": "display_data"
    },
    {
     "data": {
      "text/markdown": [
       "<span style=\"color:#33cc99\">Solution:</span> In this case, the categorical scatter plot from **Step 7** is the more appropriate plot. While both plots tell the desired story, the plot from **Step 6** conveys far more information that could distract from the main point."
      ],
      "text/plain": [
       "Solution: In this case, the categorical scatter plot from **Step 7** is the more appropriate plot. While both plots tell the desired story, the plot from **Step 6** conveys far more information that could distract from the main point."
      ]
     },
     "metadata": {},
     "output_type": "display_data"
    }
   ],
   "source": [
    "# Check your answer (Run this code cell to receive credit!)\n",
    "step_7.b.solution()"
   ]
  },
  {
   "cell_type": "markdown",
   "id": "direct-recipient",
   "metadata": {
    "papermill": {
     "duration": 0.044156,
     "end_time": "2021-03-31T15:13:56.817186",
     "exception": false,
     "start_time": "2021-03-31T15:13:56.773030",
     "status": "completed"
    },
    "tags": []
   },
   "source": [
    "## Keep going\n",
    "\n",
    "Explore **[histograms and density plots](https://www.kaggle.com/alexisbcook/distributions)**."
   ]
  },
  {
   "cell_type": "markdown",
   "id": "silent-salvation",
   "metadata": {
    "papermill": {
     "duration": 0.044513,
     "end_time": "2021-03-31T15:13:56.906401",
     "exception": false,
     "start_time": "2021-03-31T15:13:56.861888",
     "status": "completed"
    },
    "tags": []
   },
   "source": [
    "---\n",
    "\n",
    "\n",
    "\n",
    "\n",
    "*Have questions or comments? Visit the [Learn Discussion forum](https://www.kaggle.com/learn-forum/161291) to chat with other Learners.*"
   ]
  }
 ],
 "metadata": {
  "kernelspec": {
   "display_name": "Python 3",
   "language": "python",
   "name": "python3"
  },
  "language_info": {
   "codemirror_mode": {
    "name": "ipython",
    "version": 3
   },
   "file_extension": ".py",
   "mimetype": "text/x-python",
   "name": "python",
   "nbconvert_exporter": "python",
   "pygments_lexer": "ipython3",
   "version": "3.7.9"
  },
  "papermill": {
   "default_parameters": {},
   "duration": 12.333617,
   "end_time": "2021-03-31T15:13:57.561655",
   "environment_variables": {},
   "exception": null,
   "input_path": "__notebook__.ipynb",
   "output_path": "__notebook__.ipynb",
   "parameters": {},
   "start_time": "2021-03-31T15:13:45.228038",
   "version": "2.3.2"
  }
 },
 "nbformat": 4,
 "nbformat_minor": 5
}
